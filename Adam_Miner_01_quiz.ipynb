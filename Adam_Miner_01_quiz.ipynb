{
  "cells": [
    {
      "cell_type": "markdown",
      "metadata": {
        "id": "view-in-github",
        "colab_type": "text"
      },
      "source": [
        "<a href=\"https://colab.research.google.com/github/minerad183/node/blob/main/Adam_Miner_01_quiz.ipynb\" target=\"_parent\"><img src=\"https://colab.research.google.com/assets/colab-badge.svg\" alt=\"Open In Colab\"/></a>"
      ]
    },
    {
      "cell_type": "markdown",
      "metadata": {
        "id": "K574HKQPaRZv"
      },
      "source": [
        "<img src=\"http://imgur.com/1ZcRyrc.png\" style=\"float: left; margin: 20px; height: 55px\" />\n",
        "\n",
        "# Quiz 1\n",
        "\n",
        "This notebook contains 5 coding challenges. You are to clone this repository and fill in the quiz with your answers, taking special care to follow the directions **exactly**. In many questions, we ask that you *name variables in a specific way*. Make sure to do this, as we use it for **grading**.\n",
        "\n",
        "-------------------------------------------------------------------------------------\n",
        "\n",
        "To **submit** your quiz, provide the **link** to your forked repo on the Google Classroom assignment titled *Quiz 1*. The grader will clone your repo to grade your work. Please do not push up additional commits to your repo after submitting your quiz!\n",
        "\n",
        "### Quiz Information:\n",
        "- This is an \"open book\" quiz - you may use any resources! This includes Google, StackOverflow, your notes, etc. **ANY RESOURCE YOU USE MUST BE CITED** (comment your code with links, which lesson you got the inspiration from, etc.) and failure to cite resources you use will be considered `plagiarism`. \n",
        "- You may **NOT** work with anyone else on this quiz (your classmates, your instructor, etc.).\n",
        "- You will have *60 minutes* to take this quiz.\n",
        "- **If your code errors out for any reason we will deduct 50% of the credit for that question**\n",
        "\n",
        "-------------------------------------------------------------------------------------"
      ]
    },
    {
      "cell_type": "markdown",
      "metadata": {
        "id": "_LT6ljiZaRZx"
      },
      "source": [
        "# Your Info:\n",
        "**Please fill out the following questions:**\n",
        "\n",
        "### 1. What is your name?"
      ]
    },
    {
      "cell_type": "markdown",
      "metadata": {
        "id": "zgvSzjZeaRZx"
      },
      "source": []
    },
    {
      "cell_type": "markdown",
      "metadata": {
        "id": "3o2REzgUaRZy"
      },
      "source": [
        "### 2. What is your email? \n",
        "**Please make sure this is the same email you will use in the Google form to submit your work.**"
      ]
    },
    {
      "cell_type": "markdown",
      "metadata": {
        "id": "vL6qTvf_aRZy"
      },
      "source": []
    },
    {
      "cell_type": "markdown",
      "metadata": {
        "id": "uDCbZMxpaRZy"
      },
      "source": [
        "## Problem 1: List Comprehension\n",
        "\n",
        "Given the following list of people:\n",
        "```python\n",
        "people = [\n",
        "    {'name': 'Xlegic', 'age': 37, 'role': 'student'},\n",
        "    {'name': 'John', 'age': 45, 'role': 'student'},\n",
        "    {'name': 'Jasmine', 'age': 20, 'role': 'student'},\n",
        "    {'name': 'Eva', 'age': 33, 'role': 'instructor'},\n",
        "]\n",
        "```\n",
        "Use a list comprehension to return the names of *students* (ONLY STUDENTS) who are younger than 37."
      ]
    },
    {
      "cell_type": "markdown",
      "metadata": {
        "id": "O7DUQ9uTaRZz"
      },
      "source": [
        "**4pts total**  \n",
        "*Partial credit will be given if substantial progress to the right answer is made.*"
      ]
    },
    {
      "cell_type": "code",
      "execution_count": null,
      "metadata": {
        "id": "-kk2WJHAaRZz"
      },
      "outputs": [],
      "source": [
        "people = [\n",
        "    {'name': 'Xlegic', 'age': 37, 'role': 'student'},\n",
        "    {'name': 'John', 'age': 45, 'role': 'student'},\n",
        "    {'name': 'Jasmine', 'age': 20, 'role': 'student'},\n",
        "    {'name': 'Eva', 'age': 33, 'role': 'instructor'},\n",
        "]"
      ]
    },
    {
      "cell_type": "code",
      "execution_count": null,
      "metadata": {
        "id": "TLd7yx2UaRZ0"
      },
      "outputs": [],
      "source": [
        "# your answer here:\n"
      ]
    },
    {
      "cell_type": "markdown",
      "metadata": {
        "id": "wTriu2_WaRZ1"
      },
      "source": [
        "## Problem 2: Customer Demographics\n",
        "We provide a data structure consisting of a list of dictionaries. Each dictionary corresponds to a customer and contains some demographic information about them. While we provide you _one_ example of a list of customers, this company receives many such lists per day. Write a function that takes an object like this and **returns the average age of all the customers**. Call this function `average_age()`.\n",
        "\n",
        "Notes:\n",
        "* You may assume every customer will have an age listed (ie, no missing values)\n",
        "* There is no built-in average or mean function in Python. **You may _not_ import any additional libraries**."
      ]
    },
    {
      "cell_type": "markdown",
      "metadata": {
        "id": "DD6oS-41aRZ1"
      },
      "source": [
        "**4pts total**  \n",
        "*Partial credit will be given if substantial progress to the right answer is made.*"
      ]
    },
    {
      "cell_type": "code",
      "execution_count": null,
      "metadata": {
        "id": "Q4HBlOVuaRZ1"
      },
      "outputs": [],
      "source": [
        "customers = [\n",
        "    {\"name\": \"Grace Hopper\", \"age\": 47, \"rank\": \"Rear Admiral\"},\n",
        "    {\"name\": \"Linus Torvalds\", \"age\": 50, \"nationality\": \"Finland\"},\n",
        "    {\"name\": \"Alan Turing\", \"age\": 35, \"nationality\": \"United Kingdom\"},\n",
        "    {\"name\": \"Tim Book\", \"age\": 29, \"organization\": \"General Assembly\"},\n",
        "    {\"name\": \"Katherine Johnson\", \"age\": 101, \"organization\": \"NASA\"},\n",
        "    {\"name\": \"Guido van Rossum\", \"age\": 64, \"rank\": \"BDFL\"},\n",
        "    {\"name\": \"Hadley Wickham\", \"age\": 40, \"nationality\": \"New Zealand\"}\n",
        "]"
      ]
    },
    {
      "cell_type": "code",
      "execution_count": null,
      "metadata": {
        "id": "Q2NJ3BX-aRZ2"
      },
      "outputs": [],
      "source": [
        "# Your answer here: edit this function\n",
        "# replace pass in the below function with your solution\n",
        "\n",
        "def average_age():\n",
        "    pass"
      ]
    },
    {
      "cell_type": "code",
      "execution_count": null,
      "metadata": {
        "id": "I7oXSvhyaRZ2"
      },
      "outputs": [],
      "source": [
        "average_age(customers)"
      ]
    },
    {
      "cell_type": "markdown",
      "metadata": {
        "id": "lJlBalzqaRZ3"
      },
      "source": [
        "## Problem 3: Probability\n",
        "\n",
        "Assume you are flipping an unfair, two-sided coin. Write a function called `one_heads` that takes in the probability of **heads** for this unfair coin as input and **returns the probability that you will get all 5 _tails_ in 5 flips.** To check your answer, we will tell you that if $P(H) = 0.4$, the result of this function should be about 7.8%. Your answer can be returned as a decimal (0.078) or as a probability (7.8%). Points will not be deducted for differences in rounding, as long as the rounding is correct."
      ]
    },
    {
      "cell_type": "markdown",
      "metadata": {
        "id": "Su7nxgoIaRZ3"
      },
      "source": [
        "### 4pts total\n",
        "*Partial credit will be given if substantial progress to the right answer is made*"
      ]
    },
    {
      "cell_type": "code",
      "execution_count": null,
      "metadata": {
        "id": "AV0ehR4faRZ3"
      },
      "outputs": [],
      "source": [
        "# Your answer here: edit this function\n",
        "# replace pass in the below function with your solution\n",
        "\n",
        "def one_heads():\n",
        "    pass"
      ]
    },
    {
      "cell_type": "code",
      "execution_count": null,
      "metadata": {
        "id": "lAb9z1ngaRZ3"
      },
      "outputs": [],
      "source": [
        "one_heads(0.4)"
      ]
    },
    {
      "cell_type": "markdown",
      "metadata": {
        "id": "pXxC1kI6aRZ4"
      },
      "source": [
        "## Problem 4: Debugging\n",
        "\n",
        "The function `tax_amount` finds the sales tax percentage based on the state the customer lives in. This value is used in the next function, `total`, which should return the total price the customer will have to pay (including tax). There are **_three_** errors in the cell below. Two are syntax errors, the other is a semantic error. Find them. Fix them.\n",
        "\n",
        "If all of the errors in the cell are fixed, `total(tax, 39.99)` will return `41.15`."
      ]
    },
    {
      "cell_type": "markdown",
      "metadata": {
        "id": "gean-WW7aRZ4"
      },
      "source": [
        "**4pts total**  \n",
        "*Partial credit will be given if substantial progress to the right answer is made.*"
      ]
    },
    {
      "cell_type": "code",
      "execution_count": null,
      "metadata": {
        "id": "jpEODSviaRZ4"
      },
      "outputs": [],
      "source": [
        "# edit this cell to fix the three errors\n",
        "\n",
        "def get_tax_rate(state_abbrev):\n",
        "    state_tax_rates = {'CA': .065,\n",
        "                       'CO': .029,\n",
        "                       'NY': .04}\n",
        "    print(state_tax_rates[state_abbrev])\n",
        "    \n",
        "tax_rate = get_tax_rate('CO')\n",
        "\n",
        "def total_price(tax_rate, price_before_taxes)\n",
        "    tax_amt = tax_rate * price_before_taxes\n",
        "    return round(price_before_taxes * tax_amt, 2)\n",
        "\n",
        "total_price(tax_rate, 39.99)"
      ]
    },
    {
      "cell_type": "markdown",
      "metadata": {
        "id": "ZhOmUMOFaRZ5"
      },
      "source": [
        "## Problem 5: Fun with Grids\n",
        "You are tasked with creating a square grid of values in which each value only appears once in each column and once in each row (think like a Sudoku).\n",
        "\n",
        "Write a function called `grid` that inputs a list and outputs a square grid of values of that list in which each value only appears once in each column and once in each row. Specifically, one in which each row is the one above it shifted by one item. **Your answer should be in the form of a list of lists, where each sub-list is a row of the square**. For example:\n",
        "\n",
        "`grid([1, 2, 3, 4]) -> [[1, 2, 3, 4], [4, 1, 2, 3], [3, 4, 1, 2], [2, 3, 4, 1]]`\n",
        "\n",
        "which corresponds to:\n",
        "\n",
        "```\n",
        "1234\n",
        "4123\n",
        "3412\n",
        "2341\n",
        "```"
      ]
    },
    {
      "cell_type": "markdown",
      "metadata": {
        "id": "zRVXuB9JaRZ5"
      },
      "source": [
        "**4pts total**  \n",
        "*Partial credit will be given if substantial progress to the right answer is made.*"
      ]
    },
    {
      "cell_type": "code",
      "execution_count": null,
      "metadata": {
        "id": "yZ5vI31GaRZ5"
      },
      "outputs": [],
      "source": [
        "# Your answer here: edit this function\n",
        "# replace pass in the below function with your solution\n",
        "\n",
        "def grid():\n",
        "    pass"
      ]
    },
    {
      "cell_type": "code",
      "execution_count": null,
      "metadata": {
        "id": "sjPvKSUCaRZ5"
      },
      "outputs": [],
      "source": [
        "grid([1, 2, 3, 4])"
      ]
    }
  ],
  "metadata": {
    "kernelspec": {
      "display_name": "Python 3",
      "language": "python",
      "name": "python3"
    },
    "language_info": {
      "codemirror_mode": {
        "name": "ipython",
        "version": 3
      },
      "file_extension": ".py",
      "mimetype": "text/x-python",
      "name": "python",
      "nbconvert_exporter": "python",
      "pygments_lexer": "ipython3",
      "version": "3.8.3"
    },
    "colab": {
      "provenance": [],
      "include_colab_link": true
    }
  },
  "nbformat": 4,
  "nbformat_minor": 0
}